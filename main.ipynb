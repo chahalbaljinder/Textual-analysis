{
 "cells": [
  {
   "cell_type": "code",
   "execution_count": 1,
   "id": "97ff7ae0-4775-4582-bd6b-50fc211dfd7c",
   "metadata": {},
   "outputs": [],
   "source": [
    "import pandas as pd "
   ]
  },
  {
   "cell_type": "code",
   "execution_count": 5,
   "id": "dc4869ee-af9d-4bbe-bead-ba4de211a4cd",
   "metadata": {},
   "outputs": [
    {
     "name": "stdout",
     "output_type": "stream",
     "text": [
      "  ML and AI-based insurance premium model to predict premium to be charged by the insurance company\n",
      "0  Healthcare AI ChatBot using LLAMA, LLM, Langch...                                               \n"
     ]
    }
   ],
   "source": [
    "txt = pd.read_csv(r\"C:\\Users\\admin\\Desktop\\github repos\\Textual-analysis\\TitleText\\bctech2011.txt\" , delimiter=\"\\t\")\n",
    "print(txt)"
   ]
  },
  {
   "cell_type": "code",
   "execution_count": null,
   "id": "bba0fc69-9744-47a3-a6c2-a26d5a80ccae",
   "metadata": {},
   "outputs": [],
   "source": []
  }
 ],
 "metadata": {
  "kernelspec": {
   "display_name": "Python 3 (ipykernel)",
   "language": "python",
   "name": "python3"
  },
  "language_info": {
   "codemirror_mode": {
    "name": "ipython",
    "version": 3
   },
   "file_extension": ".py",
   "mimetype": "text/x-python",
   "name": "python",
   "nbconvert_exporter": "python",
   "pygments_lexer": "ipython3",
   "version": "3.11.2"
  },
  "widgets": {
   "application/vnd.jupyter.widget-state+json": {
    "state": {},
    "version_major": 2,
    "version_minor": 0
   }
  }
 },
 "nbformat": 4,
 "nbformat_minor": 5
}
